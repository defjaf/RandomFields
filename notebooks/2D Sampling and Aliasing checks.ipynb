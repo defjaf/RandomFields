{
 "cells": [
  {
   "cell_type": "code",
   "execution_count": 1,
   "metadata": {},
   "outputs": [],
   "source": [
    "from realization import realization\n",
    "import numpy as np\n",
    "from itertools import tee\n",
    "import itertools\n",
    "import matplotlib.pyplot as plt\n",
    "\n",
    "%matplotlib inline\n",
    "\n",
    "    \n",
    "def pairwise(iterable):\n",
    "    \"s -> (s0,s1), (s1,s2), (s2, s3), ...\"\n",
    "    a, b = itertools.tee(iterable)\n",
    "    next(b, None)\n",
    "    return zip(a, b)\n",
    "    "
   ]
  },
  {
   "cell_type": "code",
   "execution_count": 2,
   "metadata": {},
   "outputs": [],
   "source": [
    "rshape = (64,64)\n",
    "deltas=1\n",
    "nk = 12\n",
    "nangle=1"
   ]
  },
  {
   "cell_type": "code",
   "execution_count": 3,
   "metadata": {},
   "outputs": [],
   "source": [
    "kvec = realization.get_k(rshape, deltas=deltas)\n",
    "k = np.sqrt(realization.get_k2(rshape, deltas=deltas))\n",
    "kk = np.linspace(0, k.max(), nk)\n",
    "aa = np.linspace(0, 2*np.pi, nangle+1)\n"
   ]
  },
  {
   "cell_type": "code",
   "execution_count": 4,
   "metadata": {},
   "outputs": [
    {
     "name": "stderr",
     "output_type": "stream",
     "text": [
      "/var/folders/f5/bwf9396x1k5c0qgk08cvrbt00000gn/T/ipykernel_48377/3290256648.py:11: DeprecationWarning: `np.float` is a deprecated alias for the builtin `float`. To silence this warning, use `float` by itself. Doing this will not modify any behavior and is safe. If you specifically wanted the numpy scalar type, use `np.float64` here.\n",
      "Deprecated in NumPy 1.20; for more details and guidance: https://numpy.org/devdocs/release/1.20.0-notes.html#deprecations\n",
      "  powk = np.zeros(idx.sum(), dtype=np.float)\n"
     ]
    },
    {
     "name": "stdout",
     "output_type": "stream",
     "text": [
      "*** 0 ***\n",
      "*** 1 ***\n",
      "*** 2 ***\n",
      "*** 3 ***\n",
      "*** 4 ***\n",
      "*** 5 ***\n",
      "*** 6 ***\n",
      "*** 7 ***\n",
      "*** 8 ***\n",
      "*** 9 ***\n",
      "*** 10 ***\n"
     ]
    },
    {
     "data": {
      "image/png": "[encoded data removed]",
      "text/plain": [
       "<Figure size 432x288 with 1 Axes>"
      ]
     },
     "metadata": {
      "needs_background": "light"
     },
     "output_type": "display_data"
    }
   ],
   "source": [
    "cc='bgrcmyk'\n",
    "for ii,ki in enumerate(pairwise(kk)):   ### need to iterate over full k_vec in the bin as well.\n",
    "    kdxi = np.logical_and(k>ki[0], k<=ki[1])\n",
    "    for jj, aj in enumerate(pairwise(aa)):\n",
    "        if nangle>1:\n",
    "            adxj = np.logical_and(ang>aj[0], ang<=aj[1])\n",
    "            idx = np.logical_and(kdxi, adxj)\n",
    "        else:\n",
    "            idx = kdxi\n",
    "    kvec_bin = kvec[:,idx]\n",
    "    powk = np.zeros(idx.sum(), dtype=float)\n",
    "    print(\"***\", ii, \"***\")\n",
    "    for p, kv in zip(powk, kvec_bin.T):\n",
    "        plt.scatter(kv.T[0], kv.T[1], c=cc[ii%len(cc)])\n",
    "        plt.axis('scaled')"
   ]
  },
  {
   "cell_type": "code",
   "execution_count": 5,
   "metadata": {},
   "outputs": [
    {
     "data": {
      "text/plain": [
       "(8, 8, 8, 5)"
      ]
     },
     "execution_count": 5,
     "metadata": {},
     "output_type": "execute_result"
    }
   ],
   "source": [
    "ndims=4\n",
    "rshape = (8,)*ndims\n",
    "kvec = realization.get_k(rshape)\n",
    "kvec.shape[1:]"
   ]
  },
  {
   "cell_type": "code",
   "execution_count": 6,
   "metadata": {
    "scrolled": false
   },
   "outputs": [
    {
     "name": "stdout",
     "output_type": "stream",
     "text": [
      "rr:\n",
      " [[-1  0  1]\n",
      " [-1  0  1]]\n",
      "rout:\n",
      " [[-1 -1]\n",
      " [-1  0]\n",
      " [-1  1]\n",
      " [ 0 -1]\n",
      " [ 0  0]\n",
      " [ 0  1]\n",
      " [ 1 -1]\n",
      " [ 1  0]\n",
      " [ 1  1]]\n",
      "shape: (9, 2)\n"
     ]
    }
   ],
   "source": [
    "nmaxs = 1,1\n",
    "ndims= len(nmaxs)\n",
    "rr = np.array([range(-nm,nm+1) for nm in nmaxs])\n",
    "print('rr:\\n', rr)\n",
    "rout = np.array(np.meshgrid(*rr)).T.reshape(-1, ndims)\n",
    "print ('rout:\\n', rout)\n",
    "print ('shape:', rout.shape)\n",
    "\n",
    "# a = []\n",
    "# for f in itertools.product(rrr, repeat=ndims):\n",
    "#     a.append(f)\n",
    "# np.array(a)"
   ]
  },
  {
   "cell_type": "code",
   "execution_count": 7,
   "metadata": {},
   "outputs": [],
   "source": [
    "from realization import pixel_sample\n",
    "import numpy as np\n",
    "import matplotlib.pyplot as plt\n",
    "\n",
    "def Pk(k, n1=1, n2=-3, k0=0.01):\n",
    "    nu = k/(2*np.pi)\n",
    "    with np.errstate(divide='ignore'):\n",
    "        return np.where(nu<k0,(nu/k0)**n1, (nu/k0)**n2)\n",
    "    \n",
    "def beam(k, k_sigma = 0.02):\n",
    "    nu = k/(2*np.pi)\n",
    "    return np.where(nu/k_sigma<4, np.exp(-0.5*(nu/k_sigma)**2), np.exp(-0.5*(4)**2)*(nu/k_sigma/4)**-2)\n",
    "\n",
    "def kcut(k, k_cut=0.025):\n",
    "    nu = k/(2*np.pi)\n",
    "    return np.where(nu<k_cut, 1, 0)\n",
    "    \n",
    "def Pk_beam(k):\n",
    "    return Pk(k)*beam(k)   #*kcut(k)\n",
    "\n"
   ]
  },
  {
   "cell_type": "code",
   "execution_count": 8,
   "metadata": {},
   "outputs": [],
   "source": [
    "\n",
    "ndims=2\n",
    "rshape = (1024,)*ndims\n",
    "shrink_by=16\n",
    "sk, subP = pixel_sample.subsamplePower(Pk, rshape, shrink_by=shrink_by, deltas=1, nk=50, nmax=16, eq_vol=False)\n",
    "# kidx = sk<sk.max()/shrink_by\n",
    "# sk = sk[kidx]\n",
    "# subP = subP[kidx]"
   ]
  },
  {
   "cell_type": "code",
   "execution_count": 9,
   "metadata": {},
   "outputs": [
    {
     "data": {
      "text/plain": [
       "[<matplotlib.lines.Line2D at 0x7f9c55729730>]"
      ]
     },
     "execution_count": 9,
     "metadata": {},
     "output_type": "execute_result"
    },
    {
     "data": {
      "image/png": "[encoded data removed]",
      "text/plain": [
       "<Figure size 432x288 with 1 Axes>"
      ]
     },
     "metadata": {
      "needs_background": "light"
     },
     "output_type": "display_data"
    },
    {
     "data": {
      "image/png": "[encoded data removed]",
      "text/plain": [
       "<Figure size 432x288 with 1 Axes>"
      ]
     },
     "metadata": {
      "needs_background": "light"
     },
     "output_type": "display_data"
    }
   ],
   "source": [
    "import matplotlib.pyplot as plt\n",
    "%matplotlib inline\n",
    "\n",
    "subP1 = subP #/4\n",
    "fac = 1#2*np.pi\n",
    "plt.figure()\n",
    "plt.loglog(sk/fac, subP1, label=\"aliased\")\n",
    "plt.plot(sk/fac, Pk(2*np.pi*sk), label=\"theory\")\n",
    "plt.legend(loc='best')\n",
    "plt.figure()\n",
    "plt.loglog(sk[1:]/fac, subP1[1:]/Pk(2*np.pi*sk[1:]))"
   ]
  },
  {
   "cell_type": "code",
   "execution_count": 12,
   "metadata": {},
   "outputs": [],
   "source": [
    "from realization import realization\n",
    "k = np.sqrt(realization.get_k2(rshape, deltas=1))"
   ]
  },
  {
   "cell_type": "code",
   "execution_count": 13,
   "metadata": {},
   "outputs": [
    {
     "data": {
      "text/plain": [
       "(0.0, 0.0009765625, 0.7071067811865476)"
      ]
     },
     "execution_count": 13,
     "metadata": {},
     "output_type": "execute_result"
    }
   ],
   "source": [
    "k.min(), k.flat[k.flat>0].min(), k.max()"
   ]
  },
  {
   "cell_type": "code",
   "execution_count": null,
   "metadata": {},
   "outputs": [],
   "source": [
    "np.linspace(0,k.max(),50)"
   ]
  },
  {
   "cell_type": "code",
   "execution_count": null,
   "metadata": {},
   "outputs": [],
   "source": []
  }
 ],
 "metadata": {
  "kernelspec": {
   "display_name": "Python 3",
   "language": "python",
   "name": "python3"
  },
  "language_info": {
   "codemirror_mode": {
    "name": "ipython",
    "version": 3
   },
   "file_extension": ".py",
   "mimetype": "text/x-python",
   "name": "python",
   "nbconvert_exporter": "python",
   "pygments_lexer": "ipython3",
   "version": "3.8.5"
  },
  "latex_envs": {
   "LaTeX_envs_menu_present": true,
   "autoclose": false,
   "autocomplete": true,
   "bibliofile": "biblio.bib",
   "cite_by": "apalike",
   "current_citInitial": 1,
   "eqLabelWithNumbers": true,
   "eqNumInitial": 0,
   "hotkeys": {
    "equation": ""
   },
   "labels_anchors": false,
   "latex_user_defs": false,
   "report_style_numbering": false,
   "user_envs_cfg": false
  }
 },
 "nbformat": 4,
 "nbformat_minor": 1
}
