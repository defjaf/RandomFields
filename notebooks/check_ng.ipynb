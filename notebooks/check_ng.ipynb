{
 "cells": [
  {
   "cell_type": "markdown",
   "metadata": {},
   "source": [
    "# _Fourier non-Gaussianity_\n",
    "\n",
    "## Check the empirical PDF of Fourier modes of an isotropic non-Gaussian field\n",
    "\n",
    "It seems to be the case that even for highly non-Gaussian fields, the 1PDF is \"very\" Gaussian.\n",
    "(Perhaps slightly non-Gaussian for low $kL$?)\n",
    "\n",
    "Currently only have local non-Gaussianity $f(x) = F(g(x))$ where $g(x)$ is an isotropic Gaussian.\n",
    "\n",
    "\n",
    "### TODO\n",
    "\n",
    "* can we reverse engineer a non-Gaussian PDF? \n",
    "* Start with anisotropic field?\n",
    "* Can we actually see this from Matsubara's formulae?\n"
   ]
  },
  {
   "cell_type": "code",
   "execution_count": 1,
   "metadata": {},
   "outputs": [],
   "source": [
    "from __future__ import print_function\n",
    "\n",
    "do_parallel = False\n",
    "\n",
    "import numpy as np\n",
    "import matplotlib.pyplot as plt\n",
    "import realization as rn\n",
    "import numpy as np\n",
    "\n",
    "if do_parallel:\n",
    "    import joblib\n",
    "    from ipyparallel import Client, require\n",
    "    rc = Client()\n",
    "    dview = rc[:]\n",
    "\n",
    "    with dview.sync_imports():\n",
    "        import realization\n",
    "        import numpy\n",
    "    ### unfortunately these don't get good \"short names\"\n",
    "    %px np = numpy; rn = realization\n",
    "\n",
    "%matplotlib inline\n",
    "plt.rcParams['figure.figsize'] = (10, 6)"
   ]
  },
  {
   "cell_type": "code",
   "execution_count": 2,
   "metadata": {},
   "outputs": [
    {
     "ename": "TypeError",
     "evalue": "'map' object is not subscriptable",
     "output_type": "error",
     "traceback": [
      "\u001b[0;31m---------------------------------------------------------------------------\u001b[0m",
      "\u001b[0;31mTypeError\u001b[0m                                 Traceback (most recent call last)",
      "\u001b[0;32m<ipython-input-2-d0ed030d9d8b>\u001b[0m in \u001b[0;36m<module>\u001b[0;34m\u001b[0m\n\u001b[1;32m     49\u001b[0m \u001b[0;34m\u001b[0m\u001b[0m\n\u001b[1;32m     50\u001b[0m \u001b[0mstats_all\u001b[0m \u001b[0;34m=\u001b[0m \u001b[0mnp\u001b[0m\u001b[0;34m.\u001b[0m\u001b[0marray\u001b[0m\u001b[0;34m(\u001b[0m\u001b[0;34m[\u001b[0m\u001b[0ma\u001b[0m\u001b[0;34m[\u001b[0m\u001b[0;36m1\u001b[0m\u001b[0;34m]\u001b[0m \u001b[0;32mfor\u001b[0m \u001b[0ma\u001b[0m \u001b[0;32min\u001b[0m \u001b[0mall_results\u001b[0m\u001b[0;34m]\u001b[0m\u001b[0;34m)\u001b[0m\u001b[0;34m\u001b[0m\u001b[0;34m\u001b[0m\u001b[0m\n\u001b[0;32m---> 51\u001b[0;31m \u001b[0mkout\u001b[0m \u001b[0;34m=\u001b[0m \u001b[0mnp\u001b[0m\u001b[0;34m.\u001b[0m\u001b[0marray\u001b[0m\u001b[0;34m(\u001b[0m\u001b[0mall_results\u001b[0m\u001b[0;34m[\u001b[0m\u001b[0;36m0\u001b[0m\u001b[0;34m]\u001b[0m\u001b[0;34m[\u001b[0m\u001b[0;36m0\u001b[0m\u001b[0;34m]\u001b[0m\u001b[0;34m)\u001b[0m\u001b[0;34m\u001b[0m\u001b[0;34m\u001b[0m\u001b[0m\n\u001b[0m\u001b[1;32m     52\u001b[0m \u001b[0mhists\u001b[0m \u001b[0;34m=\u001b[0m \u001b[0mnp\u001b[0m\u001b[0;34m.\u001b[0m\u001b[0marray\u001b[0m\u001b[0;34m(\u001b[0m\u001b[0mall_results\u001b[0m\u001b[0;34m[\u001b[0m\u001b[0;36m0\u001b[0m\u001b[0;34m]\u001b[0m\u001b[0;34m[\u001b[0m\u001b[0;36m2\u001b[0m\u001b[0;34m]\u001b[0m\u001b[0;34m)\u001b[0m   \u001b[0;31m## or could  collect all hists and do mean?\u001b[0m\u001b[0;34m\u001b[0m\u001b[0;34m\u001b[0m\u001b[0m\n",
      "\u001b[0;31mTypeError\u001b[0m: 'map' object is not subscriptable"
     ]
    }
   ],
   "source": [
    "size = 2048\n",
    "ndims = 2\n",
    "\n",
    "nMC = 18\n",
    "excise = None  # 2 1\n",
    "\n",
    "def trans(g):\n",
    "#    h = 1./(10.+g)\n",
    "    h = np.exp(g)\n",
    "    return h-np.mean(h)\n",
    "\n",
    "dims = (size,)*ndims\n",
    "\n",
    "\n",
    "### serial:\n",
    "#kout, stats, hists = rn.ng.driver(dims=(1024,1024), fNL=1, Pk=-1, eq_vol=True, ng_pow=-1, fG=0.0)\n",
    "# stats_all = []\n",
    "# for _ in range(nMC):\n",
    "#     kout, stats, hists = rn.ng.driver(dims=(2048,2048), fNL=1, Pk=-0.5, eq_vol=False, transform=trans)\n",
    "#     stats_all.append(stats)\n",
    "\n",
    "### several possible parallel models\n",
    "\n",
    "if do_parallel:\n",
    "    map_sync = dview.map_sync\n",
    "    dview.push(dict(dims=dims, excise=excise, trans=trans))\n",
    "else:\n",
    "    map_sync = map\n",
    "\n",
    "### ipyparallel with scatter/gather\n",
    "# dview.scatter('iMC', range(nMC))\n",
    "# %px ar = [rn.ng.driver(dims=dims, fNL=0, Pk=-1, eq_vol=False, transform=trans, excise=excise) for _ in iMC ]\n",
    "# all_results = dview.gather('ar')\n",
    "\n",
    "### ipyparallel map:\n",
    "\n",
    "#... sometimes getting weird UnicodeDecodeError using ipyparallel -- need to run jupyter under python2? \n",
    "#    Seems to work now...\n",
    "all_results = map_sync(\n",
    "        lambda _: rn.ng.driver(dims=dims, fNL=0.0, Pk=1.0, eq_vol=False, transform=None, excise=excise),\n",
    "        range(nMC)\n",
    ")\n",
    "\n",
    "# # or use joblib (not in stdlib!) instead...\n",
    "# def wrapper(_):\n",
    "#     return realization.ng.driver(dims=dims, fNL=0, Pk=-1, eq_vol=False, transform=None, excise=excise)\n",
    "\n",
    "# # all_results = joblib.Parallel(n_jobs=3)(joblib.delayed(wrapper)(i) for i in range(nMC))\n",
    "\n",
    "stats_all = np.array([a[1] for a in all_results])\n",
    "kout = np.array(all_results[0][0])\n",
    "hists = np.array(all_results[0][2])   ## or could  collect all hists and do mean?"
   ]
  },
  {
   "cell_type": "code",
   "execution_count": null,
   "metadata": {},
   "outputs": [],
   "source": [
    "stats_all = np.array(stats_all)\n",
    "stats_mean = stats_all.mean(axis=0)\n",
    "stats_std = stats_all.std(axis=0) if nMC>1 else None"
   ]
  },
  {
   "cell_type": "code",
   "execution_count": null,
   "metadata": {},
   "outputs": [],
   "source": [
    "plt.figure()\n",
    "i1 = 1\n",
    "\n",
    "if stats_std is None:\n",
    "    plt.plot(kout[i1:], stats_mean.T[3][i1:], '+', label='kurtosis');\n",
    "    plt.plot(kout[i1:], stats_mean.T[2][i1:], 'o', label='skewness');\n",
    "    plt.plot(kout[i1:], stats_mean.T[1][i1:]-1, '*', label='var-1');\n",
    "    plt.plot(kout[i1:], stats_mean.T[0][i1:], '.', label='mean');\n",
    "else:\n",
    "    plt.errorbar(kout[i1:]-0.005, stats_mean.T[3][i1:],   yerr=stats_std.T[3][i1:], fmt='+', label='kurtosis');\n",
    "    plt.errorbar(kout[i1:]+0.000, stats_mean.T[2][i1:],   yerr=stats_std.T[2][i1:], fmt='o', label='skewness');\n",
    "    plt.errorbar(kout[i1:]+0.005, stats_mean.T[1][i1:]-1, yerr=stats_std.T[1][i1:], fmt='*', label='var-1');\n",
    "    plt.errorbar(kout[i1:]+0.010, stats_mean.T[0][i1:],   yerr=stats_std.T[0][i1:], fmt='.', label='mean');\n",
    "\n",
    "    plt.axhline(y=0, color='k')\n",
    "\n",
    "plt.legend()\n"
   ]
  },
  {
   "cell_type": "code",
   "execution_count": null,
   "metadata": {},
   "outputs": [],
   "source": [
    "## see http://stackoverflow.com/questions/44003552/matplotlib-histogram-from-numpy-histogram-output\n",
    "for frq, edges in hists[0:]:\n",
    "    frq = np.array(frq,dtype=np.float)\n",
    "    frq /= frq.sum()\n",
    "    plt.bar(edges[:-1], frq, width=np.diff(edges), ec=\"k\", align=\"edge\", log=True)\n",
    "    # plt.figure()\n",
    "    \n",
    "plt.figure()\n",
    "for frq, edges in hists[0:]:\n",
    "    frq = np.array(frq,dtype=np.float)\n",
    "    frq /= frq.sum()\n",
    "    ctrs = edges[:-1] + np.diff(edges)\n",
    "    plt.semilogy(ctrs, frq)\n",
    "    # plt.figure()"
   ]
  },
  {
   "cell_type": "code",
   "execution_count": null,
   "metadata": {},
   "outputs": [],
   "source": [
    "rlzn_fourier0, rlzn_config0 = rn.ng.local_fNL((4096,4096), 1, -2, return_config=True, ng_pow=-1, fG=0)\n",
    "rlzn_fourier100, rlzn_config100 = rn.ng.local_fNL((4096,4096), 1, -2, return_config=True, ng_pow=2)"
   ]
  },
  {
   "cell_type": "code",
   "execution_count": null,
   "metadata": {},
   "outputs": [],
   "source": [
    "plt.imshow(rlzn_config0); plt.axis(\"scaled\"); plt.colorbar()\n",
    "plt.figure()\n",
    "plt.imshow(rlzn_config100); plt.axis(\"scaled\"); plt.colorbar()"
   ]
  },
  {
   "cell_type": "code",
   "execution_count": null,
   "metadata": {},
   "outputs": [],
   "source": [
    "plt.imshow(np.log(np.abs(rlzn_fourier0[:rlzn_fourier0.shape[0]/2])/4096),vmin=-5,vmax=7, origin='lower'); plt.colorbar(); plt.axis(\"scaled\")\n",
    "plt.figure()\n",
    "plt.imshow(np.log(np.abs(rlzn_fourier100[:rlzn_fourier100.shape[0]/2])/4096), vmin=10,vmax=17, origin='lower'); plt.colorbar(); plt.axis(\"scaled\")"
   ]
  },
  {
   "cell_type": "code",
   "execution_count": null,
   "metadata": {},
   "outputs": [],
   "source": [
    "_=plt.hist(np.log(np.abs(rlzn_fourier100)/4096).ravel(), bins=50)"
   ]
  },
  {
   "cell_type": "code",
   "execution_count": null,
   "metadata": {},
   "outputs": [],
   "source": [
    "plt.imshow?"
   ]
  },
  {
   "cell_type": "code",
   "execution_count": null,
   "metadata": {},
   "outputs": [],
   "source": [
    "rlzn_fourier0[:rlzn_fourier.shape[0]/2].shape"
   ]
  },
  {
   "cell_type": "code",
   "execution_count": null,
   "metadata": {},
   "outputs": [],
   "source": [
    "q(3)"
   ]
  },
  {
   "cell_type": "code",
   "execution_count": null,
   "metadata": {},
   "outputs": [],
   "source": [
    "dview."
   ]
  },
  {
   "cell_type": "code",
   "execution_count": null,
   "metadata": {},
   "outputs": [],
   "source": []
  }
 ],
 "metadata": {
  "kernelspec": {
   "display_name": "Python 3",
   "language": "python",
   "name": "python3"
  },
  "language_info": {
   "codemirror_mode": {
    "name": "ipython",
    "version": 3
   },
   "file_extension": ".py",
   "mimetype": "text/x-python",
   "name": "python",
   "nbconvert_exporter": "python",
   "pygments_lexer": "ipython3",
   "version": "3.7.1"
  },
  "latex_envs": {
   "LaTeX_envs_menu_present": true,
   "autoclose": false,
   "autocomplete": true,
   "bibliofile": "biblio.bib",
   "cite_by": "apalike",
   "current_citInitial": 1,
   "eqLabelWithNumbers": true,
   "eqNumInitial": 1,
   "hotkeys": {
    "equation": ""
   },
   "labels_anchors": false,
   "latex_user_defs": false,
   "report_style_numbering": false,
   "user_envs_cfg": false
  }
 },
 "nbformat": 4,
 "nbformat_minor": 2
}
